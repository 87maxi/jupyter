{
 "cells": [
  {
   "cell_type": "code",
   "execution_count": 2,
   "id": "1beabb49",
   "metadata": {
    "editable": true,
    "slideshow": {
     "slide_type": ""
    },
    "tags": []
   },
   "outputs": [
    {
     "data": {
      "text/plain": [
       "{:coconut=>1, :apple=>2, :banana=>3}"
      ]
     },
     "execution_count": 2,
     "metadata": {},
     "output_type": "execute_result"
    }
   ],
   "source": [
    "fruits = { coconut: 1, apple: 2, banana: 3 }"
   ]
  },
  {
   "cell_type": "code",
   "execution_count": 3,
   "id": "1bf6c93a",
   "metadata": {},
   "outputs": [
    {
     "data": {
      "text/plain": [
       "4"
      ]
     },
     "execution_count": 3,
     "metadata": {},
     "output_type": "execute_result"
    }
   ],
   "source": [
    "fruits[:orange] = 4"
   ]
  },
  {
   "cell_type": "code",
   "execution_count": 3,
   "id": "12d59908",
   "metadata": {},
   "outputs": [
    {
     "data": {
      "text/plain": [
       "{:coconut=>1, :apple=>2, :banana=>3, :orange=>4}"
      ]
     },
     "execution_count": 3,
     "metadata": {},
     "output_type": "execute_result"
    }
   ],
   "source": [
    "fruits"
   ]
  },
  {
   "cell_type": "code",
   "execution_count": 4,
   "id": "312be4fd",
   "metadata": {},
   "outputs": [
    {
     "data": {
      "text/plain": [
       "[1, 2, 3, 4, 5]"
      ]
     },
     "execution_count": 4,
     "metadata": {},
     "output_type": "execute_result"
    }
   ],
   "source": [
    "fruits[:test]=[1,2,3,4,5]"
   ]
  },
  {
   "cell_type": "code",
   "execution_count": 5,
   "id": "72f7ba25",
   "metadata": {},
   "outputs": [
    {
     "name": "stdout",
     "output_type": "stream",
     "text": [
      "{:coconut=>1, :apple=>2, :banana=>3, :orange=>4, :test=>[1, 2, 3, 4, 5]}\n"
     ]
    }
   ],
   "source": [
    "puts fruits"
   ]
  },
  {
   "cell_type": "code",
   "execution_count": 6,
   "id": "3405e865",
   "metadata": {},
   "outputs": [
    {
     "name": "stdout",
     "output_type": "stream",
     "text": [
      " key ->  coconut\n",
      " value ->  1\n",
      " key ->  apple\n",
      " value ->  2\n",
      " key ->  banana\n",
      " value ->  3\n",
      " key ->  orange\n",
      " value ->  4\n",
      " key ->  test\n",
      " value ->  [1, 2, 3, 4, 5]\n"
     ]
    },
    {
     "data": {
      "text/plain": [
       "{:coconut=>1, :apple=>2, :banana=>3, :orange=>4, :test=>[1, 2, 3, 4, 5]}"
      ]
     },
     "execution_count": 6,
     "metadata": {},
     "output_type": "execute_result"
    }
   ],
   "source": [
    "fruits.each_pair do | a, b|\n",
    "  puts \" key ->  #{a}\"\n",
    "  puts \" value ->  #{b}\"\n",
    "end"
   ]
  },
  {
   "cell_type": "code",
   "execution_count": 7,
   "id": "0c0cde7d",
   "metadata": {},
   "outputs": [
    {
     "data": {
      "text/plain": [
       "{:a=>1, :b=>2, :c=>4}"
      ]
     },
     "execution_count": 7,
     "metadata": {},
     "output_type": "execute_result"
    }
   ],
   "source": [
    "defaults    = { a: 1, b: 2, c: 3 }\n",
    "preferences = { c: 4 }\n",
    "\n",
    "defaults.merge!(preferences)"
   ]
  },
  {
   "cell_type": "code",
   "execution_count": 8,
   "id": "4acdb8ff",
   "metadata": {},
   "outputs": [
    {
     "data": {
      "text/plain": [
       "{:a=>1, :b=>2, :c=>4}"
      ]
     },
     "execution_count": 8,
     "metadata": {},
     "output_type": "execute_result"
    }
   ],
   "source": [
    "defaults.merge!(preferences) { |key, old, new| [old, new].max }"
   ]
  },
  {
   "cell_type": "code",
   "execution_count": 9,
   "id": "a84f1c1d",
   "metadata": {},
   "outputs": [
    {
     "data": {
      "text/plain": [
       "[[:a, 2], [:b, 1]]"
      ]
     },
     "execution_count": 9,
     "metadata": {},
     "output_type": "execute_result"
    }
   ],
   "source": [
    "{ b: 1, a: 2 }.sort\n"
   ]
  },
  {
   "cell_type": "code",
   "execution_count": 10,
   "id": "aa5bcf2c",
   "metadata": {},
   "outputs": [
    {
     "data": {
      "text/plain": [
       "[[:b, 1], [:a, 2], [:c, 3]]"
      ]
     },
     "execution_count": 10,
     "metadata": {},
     "output_type": "execute_result"
    }
   ],
   "source": [
    "{ c: 3, b: 1, a: 2 }.sort_by(&:last)"
   ]
  },
  {
   "cell_type": "code",
   "execution_count": 11,
   "id": "a2893b9b",
   "metadata": {},
   "outputs": [
    {
     "data": {
      "text/plain": [
       "[:coconut, :apple, :banana, :orange, :test]"
      ]
     },
     "execution_count": 11,
     "metadata": {},
     "output_type": "execute_result"
    }
   ],
   "source": [
    "fruits.keys"
   ]
  },
  {
   "cell_type": "code",
   "execution_count": 12,
   "id": "9c25c66b",
   "metadata": {},
   "outputs": [
    {
     "data": {
      "text/plain": [
       "[1, 2, 3, 4, [1, 2, 3, 4, 5]]"
      ]
     },
     "execution_count": 12,
     "metadata": {},
     "output_type": "execute_result"
    }
   ],
   "source": [
    "fruits.values"
   ]
  },
  {
   "cell_type": "code",
   "execution_count": 13,
   "id": "be60867d",
   "metadata": {},
   "outputs": [
    {
     "data": {
      "text/plain": [
       "{\"name\"=>\"maxi\", \"last name\"=>\"paredes\"}"
      ]
     },
     "execution_count": 13,
     "metadata": {},
     "output_type": "execute_result"
    }
   ],
   "source": [
    "person = Hash.new\n",
    "\n",
    "person[1]={'name'=>'maxi', 'last name' => 'paredes'}"
   ]
  },
  {
   "cell_type": "code",
   "execution_count": 14,
   "id": "f5f88ffc",
   "metadata": {},
   "outputs": [
    {
     "data": {
      "text/plain": [
       "[1, 2, 3, 4, 5, 6]"
      ]
     },
     "execution_count": 14,
     "metadata": {},
     "output_type": "execute_result"
    }
   ],
   "source": [
    "person[0]=[1,2,3,4,5,6]"
   ]
  },
  {
   "cell_type": "code",
   "execution_count": 15,
   "id": "2153c15c",
   "metadata": {},
   "outputs": [
    {
     "name": "stdout",
     "output_type": "stream",
     "text": [
      "{1=>{\"name\"=>\"maxi\", \"last name\"=>\"paredes\"}, 0=>[1, 2, 3, 4, 5, 6]}\n"
     ]
    }
   ],
   "source": [
    "puts person"
   ]
  },
  {
   "cell_type": "code",
   "execution_count": 16,
   "id": "fcd63b89",
   "metadata": {},
   "outputs": [
    {
     "data": {
      "text/plain": [
       "[[1, {\"name\"=>\"maxi\", \"last name\"=>\"paredes\"}]]"
      ]
     },
     "execution_count": 16,
     "metadata": {},
     "output_type": "execute_result"
    }
   ],
   "source": [
    "person.each_slice(1).to_a[0]"
   ]
  },
  {
   "cell_type": "code",
   "execution_count": 17,
   "id": "21c9ea19",
   "metadata": {},
   "outputs": [
    {
     "name": "stdout",
     "output_type": "stream",
     "text": [
      "{\"a\"=>1, \"b\"=>2}\n"
     ]
    }
   ],
   "source": [
    "t = Hash.new\n",
    "\n",
    "t['a']=1\n",
    "t['b'] = 2\n",
    "\n",
    "puts t"
   ]
  },
  {
   "cell_type": "code",
   "execution_count": 18,
   "id": "c188879d",
   "metadata": {},
   "outputs": [
    {
     "data": {
      "text/plain": [
       "{\"b\"=>2}"
      ]
     },
     "execution_count": 18,
     "metadata": {},
     "output_type": "execute_result"
    }
   ],
   "source": [
    "\n",
    "t.each_with_object({}) { |(k, v), new_hash| new_hash[k] = v if v > 1 }\n"
   ]
  },
  {
   "cell_type": "code",
   "execution_count": 19,
   "id": "b80a450e",
   "metadata": {},
   "outputs": [
    {
     "data": {
      "text/plain": [
       "{:foo=>\"FOO\", :bar=>\"BAR\", :jazz=>\"JAZZ\"}"
      ]
     },
     "execution_count": 19,
     "metadata": {},
     "output_type": "execute_result"
    }
   ],
   "source": [
    "[:foo, :bar, :jazz].each_with_object({}) do |item, hash|\n",
    "  hash[item] = item.to_s.upcase\n",
    "end"
   ]
  },
  {
   "cell_type": "code",
   "execution_count": 20,
   "id": "d1fda67b",
   "metadata": {},
   "outputs": [
    {
     "name": "stdout",
     "output_type": "stream",
     "text": [
      "1\n",
      "4\n",
      "9\n",
      "16\n",
      "25\n",
      "36\n",
      "49\n",
      "64\n",
      "81\n",
      "100\n"
     ]
    }
   ],
   "source": [
    "array = []\n",
    "\n",
    "(1..10).each_with_object([]) do |item|\n",
    "  array << item ** 2\n",
    "end\n",
    "\n",
    "puts array"
   ]
  },
  {
   "cell_type": "code",
   "execution_count": 21,
   "id": "7b717f94",
   "metadata": {},
   "outputs": [
    {
     "name": "stdout",
     "output_type": "stream",
     "text": [
      "{\"a\"=>\"qwer\", \"b\"=>\"rewq\"}\n"
     ]
    }
   ],
   "source": [
    "h={}\n",
    "p={\"a\" => 'qwer', \"b\"=>\"rewq\" }\n",
    "p.each_with_object({}) do |(k,v)|\n",
    "  h[k]=v\n",
    "end\n",
    "\n",
    "puts h"
   ]
  }
 ],
 "metadata": {
  "kernelspec": {
   "display_name": "Ruby 3 (iruby kernel)",
   "language": "ruby",
   "name": "ruby3"
  },
  "language_info": {
   "file_extension": ".rb",
   "mimetype": "application/x-ruby",
   "name": "ruby",
   "version": "3.3.5"
  }
 },
 "nbformat": 4,
 "nbformat_minor": 5
}
