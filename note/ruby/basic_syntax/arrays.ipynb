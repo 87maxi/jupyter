{
 "cells": [
  {
   "cell_type": "code",
   "execution_count": 1,
   "id": "708e6298-0095-4055-96e5-1d1487c6e0c2",
   "metadata": {},
   "outputs": [
    {
     "name": "stdout",
     "output_type": "stream",
     "text": [
      "Hello World\n"
     ]
    }
   ],
   "source": [
    "puts \"Hello World\""
   ]
  },
  {
   "cell_type": "code",
   "execution_count": 2,
   "id": "f80c921c",
   "metadata": {},
   "outputs": [
    {
     "name": "stdout",
     "output_type": "stream",
     "text": [
      "Monday\n",
      "Tuesday\n",
      "Wednesday\n",
      "Thursday\n",
      "Friday\n",
      "Saturday\n",
      "Sunday\n"
     ]
    }
   ],
   "source": [
    "days = %w{Monday Tuesday Wednesday Thursday Friday Saturday Sunday}\n",
    "\n",
    "puts days"
   ]
  },
  {
   "cell_type": "code",
   "execution_count": 3,
   "id": "72b31854",
   "metadata": {},
   "outputs": [
    {
     "name": "stdout",
     "output_type": "stream",
     "text": [
      "Monday\n",
      "Tuesday\n",
      "Wednesday\n",
      "Thursday\n",
      "Friday\n",
      "Saturday\n",
      "Sunday\n"
     ]
    }
   ],
   "source": [
    "days =  [\"Monday\", \"Tuesday\", \"Wednesday\", \"Thursday\", \"Friday\", \"Saturday\", \"Sunday\"]\n",
    "\n",
    "puts days"
   ]
  },
  {
   "cell_type": "code",
   "execution_count": 4,
   "id": "533b0763",
   "metadata": {},
   "outputs": [
    {
     "name": "stdout",
     "output_type": "stream",
     "text": [
      "Sammy\n",
      "\n",
      "7\n",
      "another\n",
      "array\n"
     ]
    }
   ],
   "source": [
    "record = [\n",
    "    \"Sammy\",\n",
    "    nil,\n",
    "    7,\n",
    "    [\n",
    "        \"another\",\n",
    "        \"array\",\n",
    "    ]\n",
    "]\n",
    "\n",
    "puts record"
   ]
  },
  {
   "cell_type": "code",
   "execution_count": 1,
   "id": "45fa856e",
   "metadata": {},
   "outputs": [
    {
     "data": {
      "text/plain": [
       "3"
      ]
     },
     "execution_count": 1,
     "metadata": {},
     "output_type": "execute_result"
    }
   ],
   "source": [
    "sharks = [\"Hammerhead\", \"Great White\", \"Tiger\"]\n",
    "\n",
    "sharks.length"
   ]
  },
  {
   "cell_type": "code",
   "execution_count": 2,
   "id": "599dcade",
   "metadata": {},
   "outputs": [
    {
     "data": {
      "text/plain": [
       "[\"Hammerhead\", \"Great White\", \"Tiger\", \"maxi\"]"
      ]
     },
     "execution_count": 2,
     "metadata": {},
     "output_type": "execute_result"
    }
   ],
   "source": [
    "sharks << 'maxi'"
   ]
  },
  {
   "cell_type": "code",
   "execution_count": 3,
   "id": "4f1e9a12",
   "metadata": {},
   "outputs": [
    {
     "name": "stdout",
     "output_type": "stream",
     "text": [
      "2"
     ]
    }
   ],
   "source": [
    "print sharks.index(\"Tiger\")"
   ]
  },
  {
   "cell_type": "code",
   "execution_count": 4,
   "id": "75dcb983",
   "metadata": {},
   "outputs": [
    {
     "name": "stdout",
     "output_type": "stream",
     "text": []
    }
   ],
   "source": [
    "print sharks.index(\"Whale\") # return nil value"
   ]
  },
  {
   "cell_type": "code",
   "execution_count": 5,
   "id": "c1d87a29",
   "metadata": {},
   "outputs": [
    {
     "name": "stdout",
     "output_type": "stream",
     "text": [
      "maxi"
     ]
    }
   ],
   "source": [
    "print sharks[-1]"
   ]
  },
  {
   "cell_type": "code",
   "execution_count": 10,
   "id": "64a4140b",
   "metadata": {},
   "outputs": [
    {
     "name": "stdout",
     "output_type": "stream",
     "text": []
    }
   ],
   "source": [
    "print sharks.index(\"Whale\") # return nil value"
   ]
  },
  {
   "cell_type": "code",
   "execution_count": 11,
   "id": "e5592f75",
   "metadata": {},
   "outputs": [
    {
     "name": "stdout",
     "output_type": "stream",
     "text": [
      "Hammerhead\n",
      "maxi\n"
     ]
    }
   ],
   "source": [
    "puts sharks.first\n",
    "puts sharks.last"
   ]
  },
  {
   "cell_type": "code",
   "execution_count": 12,
   "id": "dfee07c2",
   "metadata": {},
   "outputs": [
    {
     "name": "stdout",
     "output_type": "stream",
     "text": []
    }
   ],
   "source": [
    "print sharks[10] #return nil value"
   ]
  },
  {
   "cell_type": "code",
   "execution_count": 13,
   "id": "e824689d",
   "metadata": {},
   "outputs": [
    {
     "name": "stdout",
     "output_type": "stream",
     "text": [
      "coral"
     ]
    }
   ],
   "source": [
    "nested_array = [\n",
    "    [\n",
    "        \"salmon\",\n",
    "        \"halibut\",\n",
    "    ],\n",
    "    [\n",
    "        \"coral\",\n",
    "        \"reef\",\n",
    "    ]\n",
    "]\n",
    "\n",
    "print nested_array[1][0];"
   ]
  },
  {
   "cell_type": "code",
   "execution_count": 14,
   "id": "54b4a235",
   "metadata": {},
   "outputs": [
    {
     "name": "stdout",
     "output_type": "stream",
     "text": [
      "[\"Hammerhead\", \"Great White\", \"Tiger\", \"maxi\"][\"Hammerhead\", \"Great White\", \"Tiger\", \"agustin\"]"
     ]
    }
   ],
   "source": [
    "print sharks\n",
    "\n",
    "# remplace value\n",
    "sharks[3] = 'agustin'\n",
    "\n",
    "print sharks"
   ]
  },
  {
   "cell_type": "code",
   "execution_count": 15,
   "id": "34d3b058",
   "metadata": {},
   "outputs": [
    {
     "name": "stdout",
     "output_type": "stream",
     "text": [
      "[\"Hammerhead\", \"Great White\", \"Tiger\", \"agustin\", nil, nil, \"fish\"]"
     ]
    }
   ],
   "source": [
    "sharks[6] = 'fish'\n",
    "\n",
    "print sharks"
   ]
  },
  {
   "cell_type": "code",
   "execution_count": 16,
   "id": "c3b935e1",
   "metadata": {},
   "outputs": [
    {
     "name": "stdout",
     "output_type": "stream",
     "text": [
      "[\"Hammerhead\", \"Great White\", \"Tiger\", \"agustin\", nil, nil, \"fish\", \"prueba\"]"
     ]
    }
   ],
   "source": [
    "sharks.push(\"prueba\")\n",
    "\n",
    "print sharks"
   ]
  },
  {
   "cell_type": "code",
   "execution_count": 17,
   "id": "e8d7fd6f",
   "metadata": {},
   "outputs": [
    {
     "name": "stdout",
     "output_type": "stream",
     "text": [
      "[\"maxi\", \"Hammerhead\", \"Great White\", \"Tiger\", \"agustin\", nil, nil, \"fish\", \"prueba\"]"
     ]
    }
   ],
   "source": [
    "sharks.unshift(\"maxi\")\n",
    "\n",
    "print sharks"
   ]
  },
  {
   "cell_type": "code",
   "execution_count": 18,
   "id": "8d24ad0e",
   "metadata": {},
   "outputs": [
    {
     "name": "stdout",
     "output_type": "stream",
     "text": [
      "[\"maxi\", \"Hammerhead\", \"Great White\", \"Tiger\", \"agustin\", nil, \"fish\", \"prueba\"]"
     ]
    }
   ],
   "source": [
    "sharks.delete_at(5)\n",
    "\n",
    "print sharks"
   ]
  },
  {
   "cell_type": "code",
   "execution_count": 19,
   "id": "cf3bb8b3",
   "metadata": {},
   "outputs": [
    {
     "name": "stdout",
     "output_type": "stream",
     "text": [
      "[\"Hammerhead\", \"Great White\", \"Tiger\", \"agustin\", nil, \"fish\", \"prueba\"]"
     ]
    }
   ],
   "source": [
    "sharks.delete('maxi')\n",
    "\n",
    "print sharks"
   ]
  },
  {
   "cell_type": "code",
   "execution_count": 20,
   "id": "dc2ca9b5",
   "metadata": {},
   "outputs": [
    {
     "name": "stdout",
     "output_type": "stream",
     "text": [
      "[\"Hammerhead\", \"Great White\", \"Tiger\", \"agustin\", nil, \"fish\"]"
     ]
    }
   ],
   "source": [
    "sharks.pop\n",
    "\n",
    "print sharks"
   ]
  },
  {
   "cell_type": "code",
   "execution_count": 21,
   "id": "78e09db1",
   "metadata": {},
   "outputs": [
    {
     "name": "stdout",
     "output_type": "stream",
     "text": [
      "[\"Great White\", \"Tiger\", \"agustin\", nil, \"fish\"]"
     ]
    }
   ],
   "source": [
    "sharks.shift\n",
    "\n",
    "print sharks"
   ]
  },
  {
   "cell_type": "code",
   "execution_count": 22,
   "id": "848fae28",
   "metadata": {},
   "outputs": [
    {
     "name": "stdout",
     "output_type": "stream",
     "text": [
      "Great White\n",
      "Tiger\n",
      "agustin\n",
      "\n",
      "fish\n"
     ]
    },
    {
     "data": {
      "text/plain": [
       "[\"Great White\", \"Tiger\", \"agustin\", nil, \"fish\"]"
      ]
     },
     "execution_count": 22,
     "metadata": {},
     "output_type": "execute_result"
    }
   ],
   "source": [
    "for shark in sharks do\n",
    "  puts shark\n",
    "end"
   ]
  },
  {
   "cell_type": "code",
   "execution_count": 23,
   "id": "01b42327",
   "metadata": {},
   "outputs": [
    {
     "name": "stdout",
     "output_type": "stream",
     "text": [
      "Great White\n",
      "Tiger\n",
      "agustin\n",
      "\n",
      "fish\n",
      "shark name -> Great White\n",
      "shark index -> 0\n",
      "shark name -> Tiger\n",
      "shark index -> 1\n",
      "shark name -> agustin\n",
      "shark index -> 2\n",
      "shark name -> \n",
      "shark index -> 3\n",
      "shark name -> fish\n",
      "shark index -> 4\n"
     ]
    },
    {
     "data": {
      "text/plain": [
       "[\"Great White\", \"Tiger\", \"agustin\", nil, \"fish\"]"
      ]
     },
     "execution_count": 23,
     "metadata": {},
     "output_type": "execute_result"
    }
   ],
   "source": [
    "sharks.each do |shark|\n",
    "  puts shark\n",
    "end\n",
    "\n",
    "sharks.each_with_index do | shark, index|\n",
    "  puts \"shark name -> #{shark}\"\n",
    "  puts \"shark index -> #{index}\"\n",
    "end"
   ]
  },
  {
   "cell_type": "code",
   "execution_count": 26,
   "id": "7a0fe4c2",
   "metadata": {},
   "outputs": [
    {
     "name": "stdout",
     "output_type": "stream",
     "text": [
      "Great White\n",
      "Tiger\n",
      "agustin\n",
      "\n",
      "fish\n"
     ]
    },
    {
     "data": {
      "text/plain": [
       "[\"Great White\", \"Tiger\", \"agustin\", nil, \"fish\"]"
      ]
     },
     "execution_count": 26,
     "metadata": {},
     "output_type": "execute_result"
    }
   ],
   "source": [
    "sharks.each {|shark| puts shark }\n"
   ]
  },
  {
   "cell_type": "code",
   "execution_count": 27,
   "id": "f3babc8c",
   "metadata": {},
   "outputs": [
    {
     "name": "stdout",
     "output_type": "stream",
     "text": [
      "2\n",
      "[\"c\", \"d\", \"e\"]\n",
      "[\"dog\"]\n",
      "[true, false, nil]\n",
      "false\n"
     ]
    }
   ],
   "source": [
    "# create arrays\n",
    "array1 = [1, 2, 3, 4, 5]\n",
    "array2 = [\"a\", \"b\", \"c\", \"d\", \"e\"]\n",
    "array3 = [\"cat\", \"dog\", \"cow\", \"rat\", \"fox\"]\n",
    "array4 = [true, false, nil]\n",
    "array5 = [\"\", \"nil\", \"false\", \"true\"]\n",
    "\n",
    "# call `slice()` method and save returned sub-arrays\n",
    "a = array1.slice(1)       # 2nd element\n",
    "b = array2.slice(2, 3)    # from 3rd element, return 3\n",
    "c = array3.slice(1, 1)    # from 2nd element, return only 1\n",
    "d = array4.slice(0, 5)    # from 1st element, return all elements\n",
    "e = array5.slice(2)       # return 3rd element\n",
    "\n",
    "# print returned values\n",
    "puts \"#{a}\"\n",
    "puts \"#{b}\"\n",
    "puts \"#{c}\"\n",
    "puts \"#{d}\"\n",
    "puts \"#{e}\""
   ]
  },
  {
   "cell_type": "code",
   "execution_count": 28,
   "id": "ab208abe-ab47-4d7a-8311-ca900cf3fa01",
   "metadata": {},
   "outputs": [
    {
     "name": "stdout",
     "output_type": "stream",
     "text": [
      "[4, 5]\n"
     ]
    }
   ],
   "source": [
    "array = [1, 2, 3, 4, 5]\n",
    "\n",
    "# use the `slice()` method on array\n",
    "a = array.slice(-2, 2)  # start from the second element backwards\n",
    "\n",
    "# print returned sub-array\n",
    "puts \"#{a}\"\n"
   ]
  },
  {
   "cell_type": "code",
   "execution_count": null,
   "id": "f0864f7c-adf9-49b2-b22a-1e8ec812b106",
   "metadata": {},
   "outputs": [],
   "source": []
  }
 ],
 "metadata": {
  "kernelspec": {
   "display_name": "Ruby 3 (iruby kernel)",
   "language": "ruby",
   "name": "ruby3"
  },
  "language_info": {
   "file_extension": ".rb",
   "mimetype": "application/x-ruby",
   "name": "ruby",
   "version": "3.3.5"
  }
 },
 "nbformat": 4,
 "nbformat_minor": 5
}
