{
 "cells": [
  {
   "cell_type": "code",
   "execution_count": 1,
   "id": "84f5cf74-ce93-4659-a295-14746f738122",
   "metadata": {
    "editable": true,
    "slideshow": {
     "slide_type": ""
    },
    "tags": []
   },
   "outputs": [],
   "source": [
    "import (\n",
    "\t\"fmt\"\n",
    "\t\"math\"\n",
    ")\n",
    "\n",
    "type Human struct {\n",
    "    name string\n",
    "}\n",
    "\n",
    "type Student struct {\n",
    "    Human\n",
    "    job string\n",
    "}\n",
    "\n",
    "type Worker struct {\n",
    "    Human\n",
    "    job string\n",
    "    salary int \n",
    "}\n",
    "  \n",
    "\n"
   ]
  }
 ],
 "metadata": {
  "kernelspec": {
   "display_name": "Go",
   "language": "go",
   "name": "gophernotes"
  },
  "language_info": {
   "codemirror_mode": "",
   "file_extension": ".go",
   "mimetype": "",
   "name": "go",
   "nbconvert_exporter": "",
   "pygments_lexer": "",
   "version": "go1.21.0"
  }
 },
 "nbformat": 4,
 "nbformat_minor": 5
}
