{
 "cells": [
  {
   "cell_type": "code",
   "execution_count": 1,
   "id": "e2360b19-b4e9-476c-8c71-0148a78107e8",
   "metadata": {},
   "outputs": [
    {
     "ename": "SyntaxError",
     "evalue": "Missing parentheses in call to 'print'. Did you mean print(...)? (628795865.py, line 8)",
     "output_type": "error",
     "traceback": [
      "\u001b[0;36m  Cell \u001b[0;32mIn[1], line 8\u001b[0;36m\u001b[0m\n\u001b[0;31m    print \"device test\"\u001b[0m\n\u001b[0m    ^\u001b[0m\n\u001b[0;31mSyntaxError\u001b[0m\u001b[0;31m:\u001b[0m Missing parentheses in call to 'print'. Did you mean print(...)?\n"
     ]
    }
   ],
   "source": [
    "class MyTest(object):\n",
    "\n",
    "    def __init__(self, x):\n",
    "        self.x = x\n",
    "\n",
    "    def __setattr__(self, name, value):\n",
    "        if name==\"device\":\n",
    "            print \"device test\"\n",
    "        else:\n",
    "            super(MyTest, self).__setattr__(name, value)\n",
    "            # in python3+ you can omit the arguments to super:\n",
    "            #super().__setattr__(name, value)\n"
   ]
  },
  {
   "cell_type": "code",
   "execution_count": 2,
   "id": "75a5692d-2313-438d-b235-f1868a06572a",
   "metadata": {},
   "outputs": [
    {
     "ename": "NameError",
     "evalue": "name 'Person' is not defined",
     "output_type": "error",
     "traceback": [
      "\u001b[0;31m---------------------------------------------------------------------------\u001b[0m",
      "\u001b[0;31mNameError\u001b[0m                                 Traceback (most recent call last)",
      "Cell \u001b[0;32mIn[2], line 1\u001b[0m\n\u001b[0;32m----> 1\u001b[0m alice \u001b[38;5;241m=\u001b[39m \u001b[43mPerson\u001b[49m()\n\u001b[1;32m      3\u001b[0m \u001b[38;5;28;01mclass\u001b[39;00m \u001b[38;5;21;01mSraza\u001b[39;00m():\n\u001b[1;32m      5\u001b[0m     \u001b[38;5;28;01mdef\u001b[39;00m \u001b[38;5;21m__init__\u001b[39m(\u001b[38;5;28mself\u001b[39m, name, x ):\n",
      "\u001b[0;31mNameError\u001b[0m: name 'Person' is not defined"
     ]
    }
   ],
   "source": [
    "alice = Person()\n",
    "\n",
    "class Sraza():\n",
    "\n",
    "    def __init__(self, name, x ):\n",
    "        self.name = 'maxi'\n",
    "        self.x= 2\n",
    "    def func(x):\n",
    "        return x**x\n",
    "    \n",
    "    def name_str(name):\n",
    "    \n",
    "        return name\n",
    "\n",
    "setattr(alice, Sraza() , func(2))\n"
   ]
  },
  {
   "cell_type": "code",
   "execution_count": 3,
   "id": "9464861c-5bd6-40f1-beb5-021acaa6b961",
   "metadata": {},
   "outputs": [
    {
     "name": "stdout",
     "output_type": "stream",
     "text": [
      "False\n",
      "True\n"
     ]
    }
   ],
   "source": [
    "def busquedaBinaria(unaLista, item):\n",
    "\t    primero = 0\n",
    "\t    ultimo = len(unaLista)-1\n",
    "\t    encontrado = False\n",
    "\t\n",
    "\t    while primero<=ultimo and not encontrado:\n",
    "\t        puntoMedio = (primero + ultimo)//2\n",
    "\t        if unaLista[puntoMedio] == item:\n",
    "\t            encontrado = True\n",
    "\t        else:\n",
    "\t            if item < unaLista[puntoMedio]:\n",
    "\t                ultimo = puntoMedio-1\n",
    "\t            else:\n",
    "\t                primero = puntoMedio+1\n",
    "\t\n",
    "\t    return encontrado\n",
    "listaPrueba = [0, 1, 2, 8, 13, 17, 19, 32, 42,]\n",
    "print(busquedaBinaria(listaPrueba, 3))\n",
    "print(busquedaBinaria(listaPrueba, 13))"
   ]
  },
  {
   "cell_type": "code",
   "execution_count": null,
   "id": "9a38dc0a-1547-4961-9a3f-ce416108bdbc",
   "metadata": {},
   "outputs": [],
   "source": []
  }
 ],
 "metadata": {
  "kernelspec": {
   "display_name": "Python 3 (ipykernel)",
   "language": "python",
   "name": "python3"
  },
  "language_info": {
   "codemirror_mode": {
    "name": "ipython",
    "version": 3
   },
   "file_extension": ".py",
   "mimetype": "text/x-python",
   "name": "python",
   "nbconvert_exporter": "python",
   "pygments_lexer": "ipython3",
   "version": "3.11.1"
  }
 },
 "nbformat": 4,
 "nbformat_minor": 5
}
