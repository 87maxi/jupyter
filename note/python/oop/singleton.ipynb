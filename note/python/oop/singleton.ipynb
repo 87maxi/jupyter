{
 "cells": [
  {
   "cell_type": "code",
   "execution_count": 1,
   "id": "79d9e94b-f4e0-482a-9239-7a8bdbc7e221",
   "metadata": {},
   "outputs": [
    {
     "name": "stdout",
     "output_type": "stream",
     "text": [
      "maxi\n",
      "139638085557424\n",
      "139638063857264\n"
     ]
    }
   ],
   "source": [
    "class Logger:\n",
    "    _instance = None\n",
    "\n",
    "    def __new__(cl):\n",
    "       if cl._instance is None:\n",
    "            print('create object')\n",
    "            cl._instace = super(Logger, cl).__new__(cl)\n",
    "       return cl._instance\n",
    "\n",
    "    @classmethod\n",
    "    def name (cl, name=None):\n",
    "        return name\n",
    "\n",
    "\n",
    "\n",
    "\n",
    "c = Logger.name('maxi')\n",
    "print(c)\n",
    "\n",
    "d = Logger.name(\"agustin\")\n",
    "\n",
    "\n",
    "\n",
    "print( id(c))\n",
    "\n",
    "print(id(d))\n"
   ]
  }
 ],
 "metadata": {
  "kernelspec": {
   "display_name": "Python 3 (ipykernel)",
   "language": "python",
   "name": "python3"
  },
  "language_info": {
   "codemirror_mode": {
    "name": "ipython",
    "version": 3
   },
   "file_extension": ".py",
   "mimetype": "text/x-python",
   "name": "python",
   "nbconvert_exporter": "python",
   "pygments_lexer": "ipython3",
   "version": "3.11.1"
  }
 },
 "nbformat": 4,
 "nbformat_minor": 5
}
