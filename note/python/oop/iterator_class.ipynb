{
 "cells": [
  {
   "cell_type": "code",
   "execution_count": 1,
   "id": "ba69d8ac-5971-4539-aa25-20c4058bdf24",
   "metadata": {
    "editable": true,
    "slideshow": {
     "slide_type": ""
    },
    "tags": []
   },
   "outputs": [
    {
     "name": "stdout",
     "output_type": "stream",
     "text": [
      "Item 1\n",
      "Item 2\n",
      "Item 3\n"
     ]
    }
   ],
   "source": [
    "# Iterator interface\n",
    "class Iterator:\n",
    "    def has_next(self):\n",
    "        pass\n",
    "    \n",
    "    def next(self):\n",
    "        pass\n",
    "\n",
    "# Aggregate interface\n",
    "class Aggregate:\n",
    "    def create_iterator(self):\n",
    "        pass\n",
    "\n",
    "# Concrete iterator\n",
    "class ConcreteIterator(Iterator):\n",
    "    def __init__(self, collection):\n",
    "        self.collection = collection\n",
    "        self.index = 0\n",
    "    \n",
    "    def has_next(self):\n",
    "        return self.index < len(self.collection)\n",
    "    \n",
    "    def next(self):\n",
    "        if self.has_next():\n",
    "            item = self.collection[self.index]\n",
    "            self.index += 1\n",
    "            return item\n",
    "        else:\n",
    "            return None\n",
    "\n",
    "# Concrete aggregate\n",
    "class ConcreteAggregate(Aggregate):\n",
    "    def __init__(self):\n",
    "        self.collection = []\n",
    "    \n",
    "    def add_item(self, item):\n",
    "        self.collection.append(item)\n",
    "    \n",
    "    def create_iterator(self):\n",
    "        return ConcreteIterator(self.collection)\n",
    "\n",
    "# Usage\n",
    "aggregate = ConcreteAggregate()\n",
    "aggregate.add_item(\"Item 1\")\n",
    "aggregate.add_item(\"Item 2\")\n",
    "aggregate.add_item(\"Item 3\")\n",
    "\n",
    "iterator = aggregate.create_iterator()\n",
    "while iterator.has_next():\n",
    "    print(iterator.next())"
   ]
  },
  {
   "cell_type": "code",
   "execution_count": null,
   "id": "ed10bd05-2b0d-4c58-a2d3-a183ec09971b",
   "metadata": {},
   "outputs": [],
   "source": []
  }
 ],
 "metadata": {
  "kernelspec": {
   "display_name": "Python 3 (ipykernel)",
   "language": "python",
   "name": "python3"
  },
  "language_info": {
   "codemirror_mode": {
    "name": "ipython",
    "version": 3
   },
   "file_extension": ".py",
   "mimetype": "text/x-python",
   "name": "python",
   "nbconvert_exporter": "python",
   "pygments_lexer": "ipython3",
   "version": "3.11.1"
  }
 },
 "nbformat": 4,
 "nbformat_minor": 5
}
