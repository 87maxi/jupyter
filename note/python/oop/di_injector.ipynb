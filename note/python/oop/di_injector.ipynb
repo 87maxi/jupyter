{
 "cells": [
  {
   "cell_type": "code",
   "execution_count": 7,
   "id": "fdf208b2-5d74-4b6c-87fb-fc1953d1321a",
   "metadata": {},
   "outputs": [
    {
     "name": "stdout",
     "output_type": "stream",
     "text": [
      "User with ID 123\n"
     ]
    }
   ],
   "source": [
    "class UserRepository:\n",
    "    def __init__(self, db_connection):\n",
    "        self.db_connection = db_connection\n",
    "\n",
    "    def get_user(self, user_id):\n",
    "        # Simulated database query\n",
    "        return f\"User with ID {user_id}\"\n",
    "\n",
    "class UserService:\n",
    "    def __init__(self, user_repository):\n",
    "        self.user_repository = user_repository\n",
    "\n",
    "    def get_user(self, user_id):\n",
    "        return self.user_repository.get_user(user_id)\n",
    "\n",
    "# Usage\n",
    "db_connection = \"Mocked DB Connection\"\n",
    "user_repository = UserRepository(db_connection)\n",
    "user_service = UserService(user_repository)\n",
    "\n",
    "user_id = 123\n",
    "user = user_service.get_user(user_id)\n",
    "print(user)\n"
   ]
  }
 ],
 "metadata": {
  "kernelspec": {
   "display_name": "Python 3 (ipykernel)",
   "language": "python",
   "name": "python3"
  },
  "language_info": {
   "codemirror_mode": {
    "name": "ipython",
    "version": 3
   },
   "file_extension": ".py",
   "mimetype": "text/x-python",
   "name": "python",
   "nbconvert_exporter": "python",
   "pygments_lexer": "ipython3",
   "version": "3.11.1"
  }
 },
 "nbformat": 4,
 "nbformat_minor": 5
}
