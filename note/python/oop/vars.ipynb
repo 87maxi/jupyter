{
 "cells": [
  {
   "cell_type": "code",
   "execution_count": 7,
   "id": "b904264b-c079-4121-abd0-d434c71b1b5c",
   "metadata": {},
   "outputs": [
    {
     "name": "stdout",
     "output_type": "stream",
     "text": [
      "maxi\n",
      "139951560645360\n",
      "%%%%%%%%%%%%%%%%%%%%%%%%%\n",
      "agustin\n",
      "139951539458160\n",
      "//////////////////////////////\n",
      "#####################\n",
      "agustin\n",
      "139951528968144\n",
      "maxi\n",
      "139951528968144\n"
     ]
    }
   ],
   "source": [
    "class Test_var:\n",
    "    name = None\n",
    "\n",
    "\n",
    "Test_var.name = 'maxi'\n",
    "\n",
    "print(Test_var.name)\n",
    "\n",
    "print(id(Test_var.name))\n",
    "\n",
    "print(\"%%%%%%%%%%%%%%%%%%%%%%%%%\")\n",
    "\n",
    "Test_var.name = 'agustin'\n",
    "\n",
    "print(Test_var.name)\n",
    "print(id(Test_var.name))\n",
    "\n",
    "print(\"//////////////////////////////\")\n",
    "\n",
    "\n",
    "class Test_var_i():\n",
    "\n",
    "    def __init__(self):\n",
    "        self.name =None\n",
    "\n",
    "\n",
    "    def setName(self, a ):\n",
    "        self.name = a\n",
    "\n",
    "    def getName(self):\n",
    "        return self.name\n",
    "\n",
    "\n",
    "print(\"#####################\")\n",
    "t =  Test_var_i() \n",
    "\n",
    "\n",
    "t.setName('agustin')\n",
    "\n",
    "print(t.getName())\n",
    "\n",
    "print(id(t))\n",
    "\n",
    "t.setName('maxi')\n",
    "\n",
    "print(t.getName())\n",
    "\n",
    "print(id(t))\n",
    "\n",
    "\n",
    "\n"
   ]
  },
  {
   "cell_type": "code",
   "execution_count": null,
   "id": "6aa13ebd-cd9e-4d8c-bb71-fb70f476f8e7",
   "metadata": {},
   "outputs": [],
   "source": []
  }
 ],
 "metadata": {
  "kernelspec": {
   "display_name": "Python 3 (ipykernel)",
   "language": "python",
   "name": "python3"
  },
  "language_info": {
   "codemirror_mode": {
    "name": "ipython",
    "version": 3
   },
   "file_extension": ".py",
   "mimetype": "text/x-python",
   "name": "python",
   "nbconvert_exporter": "python",
   "pygments_lexer": "ipython3",
   "version": "3.11.1"
  }
 },
 "nbformat": 4,
 "nbformat_minor": 5
}
