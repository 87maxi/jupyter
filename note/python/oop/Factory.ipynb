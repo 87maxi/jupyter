{
 "cells": [
  {
   "cell_type": "code",
   "execution_count": 1,
   "id": "76fa92c5-feb3-4414-8f41-0595838a5923",
   "metadata": {},
   "outputs": [
    {
     "name": "stdout",
     "output_type": "stream",
     "text": [
      "Price of HamMushroom is 8.5\n",
      "Price of Deluxe is 10.5\n",
      "Price of Hawaiian is 11.5\n"
     ]
    }
   ],
   "source": [
    "class Pizza(object):\n",
    "    def __init__(self):\n",
    "        self._price = None\n",
    "\n",
    "    def get_price(self):\n",
    "        return self._price\n",
    "\n",
    "class HamAndMushroomPizza(Pizza):\n",
    "    def __init__(self):\n",
    "        self._price = 8.5\n",
    "\n",
    "class DeluxePizza(Pizza):\n",
    "    def __init__(self):\n",
    "        self._price = 10.5\n",
    "\n",
    "class HawaiianPizza(Pizza):\n",
    "    def __init__(self):\n",
    "        self._price = 11.5\n",
    "\n",
    "class PizzaFactory(object):\n",
    "    @staticmethod\n",
    "    def create_pizza(pizza_type):\n",
    "        if pizza_type == 'HamMushroom':\n",
    "            return HamAndMushroomPizza()\n",
    "        elif pizza_type == 'Deluxe':\n",
    "            return DeluxePizza()\n",
    "        elif pizza_type == 'Hawaiian':\n",
    "            return HawaiianPizza()\n",
    "\n",
    "if __name__ == '__main__':\n",
    "    for pizza_type in ('HamMushroom', 'Deluxe', 'Hawaiian'):\n",
    "          print('Price of {0} is {1}'.format(pizza_type, PizzaFactory.create_pizza(pizza_type).get_price()))"
   ]
  }
 ],
 "metadata": {
  "kernelspec": {
   "display_name": "Python 3 (ipykernel)",
   "language": "python",
   "name": "python3"
  },
  "language_info": {
   "codemirror_mode": {
    "name": "ipython",
    "version": 3
   },
   "file_extension": ".py",
   "mimetype": "text/x-python",
   "name": "python",
   "nbconvert_exporter": "python",
   "pygments_lexer": "ipython3",
   "version": "3.11.1"
  }
 },
 "nbformat": 4,
 "nbformat_minor": 5
}
