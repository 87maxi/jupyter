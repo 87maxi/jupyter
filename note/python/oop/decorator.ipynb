{
 "cells": [
  {
   "cell_type": "code",
   "execution_count": 1,
   "id": "8c7c4c76-b4ba-4e3e-9753-e5384f9165aa",
   "metadata": {},
   "outputs": [
    {
     "name": "stdout",
     "output_type": "stream",
     "text": [
      "Student Class Attributes: name= maxi \n"
     ]
    }
   ],
   "source": [
    "class Student:\n",
    "    name = 'maxi' # atributo de clase\n",
    "    def __init__(self):\n",
    "        self.age = 20  # atributo de instancia\n",
    "\n",
    "    @classmethod\n",
    "    def tostring(cls):\n",
    "        \"\"\"\n",
    "            solo acede a los atributos de la classe\n",
    "        \"\"\"\n",
    "        print('Student Class Attributes: name= {0} '.format(cls.name))\n",
    "\n",
    "Student.tostring()  #Student Class Attributes: name=unknown"
   ]
  },
  {
   "cell_type": "code",
   "execution_count": 2,
   "id": "d5df913f-ae4a-4eb8-9b9c-f7a769fc38c0",
   "metadata": {},
   "outputs": [
    {
     "name": "stdout",
     "output_type": "stream",
     "text": [
      "Steve\n",
      "25\n"
     ]
    }
   ],
   "source": [
    "class Student:\n",
    "    def __init__(self, name, age):\n",
    "        self.name = name  # instance attribute\n",
    "        self.age = age # instance attribute\n",
    "\n",
    "    @classmethod\n",
    "    def getobject(cls):\n",
    "        return cls('Steve', 25)\n",
    "\n",
    "\n",
    "std = Student.getobject()\n",
    "print(std.name)  #'Steve'    \n",
    "print(std.age)   #25"
   ]
  },
  {
   "cell_type": "code",
   "execution_count": 3,
   "id": "d1c60582-9068-483c-97df-7964c40980e5",
   "metadata": {},
   "outputs": [
    {
     "name": "stdout",
     "output_type": "stream",
     "text": [
      "name= hello world\n"
     ]
    }
   ],
   "source": [
    "\n",
    "\n",
    "class Student:\n",
    "    name = 'unknown' # class attribute\n",
    "    \n",
    "    def __init__(self):\n",
    "        self.age = 20  # instance attribute\n",
    "\n",
    "    @staticmethod\n",
    "    def tostring(st): # solo permite pasar parametro como si fuera una funcion independiente del obj\n",
    "        print('name=',st)\n",
    "\n",
    "\n",
    "Student.tostring('hello world')\n",
    "\n"
   ]
  }
 ],
 "metadata": {
  "kernelspec": {
   "display_name": "Python 3 (ipykernel)",
   "language": "python",
   "name": "python3"
  },
  "language_info": {
   "codemirror_mode": {
    "name": "ipython",
    "version": 3
   },
   "file_extension": ".py",
   "mimetype": "text/x-python",
   "name": "python",
   "nbconvert_exporter": "python",
   "pygments_lexer": "ipython3",
   "version": "3.11.1"
  }
 },
 "nbformat": 4,
 "nbformat_minor": 5
}
