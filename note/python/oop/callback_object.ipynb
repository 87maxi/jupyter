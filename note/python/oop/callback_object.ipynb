{
 "cells": [
  {
   "cell_type": "code",
   "execution_count": 1,
   "id": "5f996280-0df4-4f70-9130-04da6dd0c23e",
   "metadata": {},
   "outputs": [
    {
     "name": "stdout",
     "output_type": "stream",
     "text": [
      "Event fired: Hello, world!\n"
     ]
    }
   ],
   "source": [
    "class EventDispatcher:\n",
    "    def __init__(self):\n",
    "        self.callbacks = {}\n",
    "\n",
    "    def register_callback(self, event, callback):\n",
    "        if event not in self.callbacks:\n",
    "            self.callbacks[event] = []\n",
    "        self.callbacks[event].append(callback)\n",
    "\n",
    "    def trigger_event(self, event, *args, **kwargs):\n",
    "        if event in self.callbacks:\n",
    "            for callback in self.callbacks[event]:\n",
    "                callback(*args, **kwargs)\n",
    "\n",
    "\n",
    "# Example usage:\n",
    "def on_event_fired(message):\n",
    "    print(\"Event fired:\", message)\n",
    "\n",
    "dispatcher = EventDispatcher()\n",
    "dispatcher.register_callback('event', on_event_fired)\n",
    "dispatcher.trigger_event('event', 'Hello, world!')"
   ]
  }
 ],
 "metadata": {
  "kernelspec": {
   "display_name": "Python 3 (ipykernel)",
   "language": "python",
   "name": "python3"
  },
  "language_info": {
   "codemirror_mode": {
    "name": "ipython",
    "version": 3
   },
   "file_extension": ".py",
   "mimetype": "text/x-python",
   "name": "python",
   "nbconvert_exporter": "python",
   "pygments_lexer": "ipython3",
   "version": "3.11.1"
  }
 },
 "nbformat": 4,
 "nbformat_minor": 5
}
