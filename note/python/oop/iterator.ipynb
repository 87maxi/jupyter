{
 "cells": [
  {
   "cell_type": "code",
   "execution_count": 1,
   "id": "4167177f-b48c-44d1-b822-8971a1758422",
   "metadata": {},
   "outputs": [],
   "source": [
    "\n",
    "class EvenIterator:\n",
    "    \"An iterator.\"\n",
    "\n",
    "    def __init__(self, arr):\n",
    "        self.arr =   [ v  for k,v in enumerate(arr)  if k  % 2 ==0]\n",
    "        self.star = 0\n",
    "        \n",
    "    def __next__(self):\n",
    "  \n",
    "        self.star += 1    \n",
    "        \n",
    "        if self.star >= len(self.arr):\n",
    "        \n",
    "            raise StopIteration # StopIteration when iteration is complete\n",
    "        \n",
    "        return self.arr[self.star]            \n",
    "    def __iter__(self):\n",
    "        return self       "
   ]
  },
  {
   "cell_type": "code",
   "execution_count": 2,
   "id": "19531cca-cc64-468d-8e19-9918b1bd2599",
   "metadata": {},
   "outputs": [
    {
     "name": "stdout",
     "output_type": "stream",
     "text": [
      "(0, 8)\n",
      "(1, 6)\n",
      "(2, 4)\n",
      "(3, 2)\n"
     ]
    }
   ],
   "source": [
    "numbers = EvenIterator([0,9,8,7,6,5,4,3,2,1])\n",
    "\n",
    "for i in enumerate(numbers):\n",
    "    print(i)\n",
    "\n"
   ]
  },
  {
   "cell_type": "code",
   "execution_count": 3,
   "id": "c042f3bc-506a-4c6c-9368-8c7ae1e38c1a",
   "metadata": {},
   "outputs": [
    {
     "name": "stdout",
     "output_type": "stream",
     "text": [
      "{'arr': [0, 8, 6, 4, 2], 'star': 5}\n"
     ]
    }
   ],
   "source": [
    "i = iter(numbers)\n",
    "\n",
    "print(i.__dict__)"
   ]
  },
  {
   "cell_type": "code",
   "execution_count": 4,
   "id": "759ca1a0-9166-4e46-8fc1-f052497eef0a",
   "metadata": {},
   "outputs": [
    {
     "data": {
      "text/plain": [
       "[3, 5, 8]"
      ]
     },
     "execution_count": 4,
     "metadata": {},
     "output_type": "execute_result"
    }
   ],
   "source": [
    "numbers = EvenIterator([1,2,3,4,5,6,None,7,8,9])\n",
    "\n",
    "\n",
    "[ i for i in filter(None,list(numbers))]"
   ]
  },
  {
   "cell_type": "code",
   "execution_count": 5,
   "id": "9aa14109-a25a-472a-b47e-83e331e1f73b",
   "metadata": {},
   "outputs": [
    {
     "name": "stdout",
     "output_type": "stream",
     "text": [
      "2\n",
      "4\n",
      "6\n",
      "8\n"
     ]
    }
   ],
   "source": [
    "numbers = EvenIterator([0,1,2,3,4,5,6,7,8,9])\n",
    "\n",
    "\n",
    "for i in numbers:\n",
    "     print(i)\n",
    "\n",
    "\n"
   ]
  },
  {
   "cell_type": "code",
   "execution_count": 6,
   "id": "29199a61-7f0a-4135-8c0c-fd58f4b6a50d",
   "metadata": {},
   "outputs": [
    {
     "name": "stdout",
     "output_type": "stream",
     "text": [
      "[0, 1, 2, 3, 4, 5, 6, 7, 8]\n"
     ]
    }
   ],
   "source": [
    "\n",
    "def y (list):\n",
    "    for i in list:\n",
    "        yield i\n",
    "\n",
    "print( [  i for i in y([0,1,2,3,4,5,6,7,8])   ])"
   ]
  },
  {
   "cell_type": "code",
   "execution_count": 7,
   "id": "8511c2ab-2d08-4193-af95-12ed9bc8b8de",
   "metadata": {},
   "outputs": [
    {
     "name": "stdout",
     "output_type": "stream",
     "text": [
      "0\n",
      "1\n",
      "2\n",
      "3\n"
     ]
    }
   ],
   "source": [
    "a = [0,1,2,3,4,5,6,7]\n",
    "\n",
    "b = iter(a)\n",
    "\n",
    "print(next(b))\n",
    "print(next(b))\n",
    "print(next(b))\n",
    "print(next(b))"
   ]
  }
 ],
 "metadata": {
  "kernelspec": {
   "display_name": "Python 3 (ipykernel)",
   "language": "python",
   "name": "python3"
  },
  "language_info": {
   "codemirror_mode": {
    "name": "ipython",
    "version": 3
   },
   "file_extension": ".py",
   "mimetype": "text/x-python",
   "name": "python",
   "nbconvert_exporter": "python",
   "pygments_lexer": "ipython3",
   "version": "3.11.1"
  }
 },
 "nbformat": 4,
 "nbformat_minor": 5
}
