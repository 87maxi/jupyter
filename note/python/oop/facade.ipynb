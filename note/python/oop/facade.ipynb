{
 "cells": [
  {
   "cell_type": "code",
   "execution_count": 1,
   "id": "d8e3798e-7f45-4b08-9975-f1882ef6dffa",
   "metadata": {},
   "outputs": [],
   "source": [
    "class Subsystem1:\n",
    "    \"\"\"\n",
    "    doc string Subsystem1\n",
    "    \"\"\"\n",
    "    def operation1(self):\n",
    "        return 'sub 1 sys 1'\n",
    "\n",
    "    def operation2(self):\n",
    "        return 'sub 2 sys 1'\n",
    "\n",
    "\n",
    "class Subsystem2:\n",
    "    \"\"\"\n",
    "    doc string Subsystem2\n",
    "    \"\"\"\n",
    "\n",
    "    def operation1(self):\n",
    "        return 'sub 1 sys 2'\n",
    "\n",
    "    def operation2(self):\n",
    "        return 'sub 2 sys 2'\n"
   ]
  },
  {
   "cell_type": "code",
   "execution_count": 2,
   "id": "1b521b12-10e2-402f-9626-db5f2f7e7548",
   "metadata": {},
   "outputs": [
    {
     "name": "stdout",
     "output_type": "stream",
     "text": [
      "sub 1 sys 1\n",
      "sub 2 sys 1\n",
      "sub 1 sys 2\n",
      "sub 2 sys 2\n"
     ]
    }
   ],
   "source": [
    "\n",
    "class Facade:\n",
    "    \"\"\"\n",
    "    implement facade\n",
    "    \"\"\"\n",
    "\n",
    "    def __init__(self):\n",
    "        self._subsystem_1 = Subsystem1()\n",
    "        self._subsystem_2 = Subsystem2()\n",
    "\n",
    "    def operation(self):\n",
    "        print(self._subsystem_1.operation1())\n",
    "        print(self._subsystem_1.operation2())\n",
    "        print(self._subsystem_2.operation1())\n",
    "        print(self._subsystem_2.operation2())\n",
    "\n",
    "Facade().operation()\n"
   ]
  }
 ],
 "metadata": {
  "kernelspec": {
   "display_name": "Python 3 (ipykernel)",
   "language": "python",
   "name": "python3"
  },
  "language_info": {
   "codemirror_mode": {
    "name": "ipython",
    "version": 3
   },
   "file_extension": ".py",
   "mimetype": "text/x-python",
   "name": "python",
   "nbconvert_exporter": "python",
   "pygments_lexer": "ipython3",
   "version": "3.11.1"
  }
 },
 "nbformat": 4,
 "nbformat_minor": 5
}
