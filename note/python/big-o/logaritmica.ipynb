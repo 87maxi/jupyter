{
 "cells": [
  {
   "cell_type": "code",
   "execution_count": 11,
   "id": "bd5dc85f-b84e-4355-aee1-a8e2c792c0a9",
   "metadata": {},
   "outputs": [
    {
     "name": "stdout",
     "output_type": "stream",
     "text": [
      "10\n"
     ]
    }
   ],
   "source": [
    "\"\"\"\n",
    "O(log n) – Complejidad Logarítmica\n",
    "\"\"\"\n",
    "def binary_search(arr, target):\n",
    "   low, high = 0, len(arr) - 1\n",
    "   while low <= high:\n",
    "      mid = (low + high) // 2\n",
    "      if arr[mid] == target:\n",
    "         return mid\n",
    "      elif arr[mid] < target:\n",
    "         low = mid + 1\n",
    "      else:\n",
    "         high = mid - 1\n",
    "   return -1\n",
    "\n",
    "\n",
    "arr = list([1,2,3,4,10,5,6,7,9,0,10])\n",
    "print(binary_search(arr, 10))"
   ]
  }
 ],
 "metadata": {
  "kernelspec": {
   "display_name": "Python 3 (ipykernel)",
   "language": "python",
   "name": "python3"
  },
  "language_info": {
   "codemirror_mode": {
    "name": "ipython",
    "version": 3
   },
   "file_extension": ".py",
   "mimetype": "text/x-python",
   "name": "python",
   "nbconvert_exporter": "python",
   "pygments_lexer": "ipython3",
   "version": "3.11.1"
  }
 },
 "nbformat": 4,
 "nbformat_minor": 5
}
