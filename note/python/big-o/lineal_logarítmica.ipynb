{
 "cells": [
  {
   "cell_type": "code",
   "execution_count": 1,
   "id": "91f5ce3e-5562-48f6-b18f-5c096972b64d",
   "metadata": {},
   "outputs": [
    {
     "name": "stdout",
     "output_type": "stream",
     "text": [
      "[1, 2, 2, 3, 5, 5, 5, 7, 8, 9, 45]\n"
     ]
    }
   ],
   "source": [
    "def quicksort(arr):\n",
    "   if len(arr) <= 1:\n",
    "      return arr\n",
    "   pivot = arr[len(arr) // 2]\n",
    "   left = [x for x in arr if x < pivot]\n",
    "   middle = [x for x in arr if x == pivot]\n",
    "   right = [x for x in arr if x > pivot]\n",
    "   return quicksort(left) + middle + quicksort(right)\n",
    "\n",
    "arr = [1,5,2,5,8,9,45,2,3,5,7]\n",
    "\n",
    "\n",
    "print(quicksort(arr))\n",
    "\n"
   ]
  }
 ],
 "metadata": {
  "kernelspec": {
   "display_name": "Python 3 (ipykernel)",
   "language": "python",
   "name": "python3"
  },
  "language_info": {
   "codemirror_mode": {
    "name": "ipython",
    "version": 3
   },
   "file_extension": ".py",
   "mimetype": "text/x-python",
   "name": "python",
   "nbconvert_exporter": "python",
   "pygments_lexer": "ipython3",
   "version": "3.11.1"
  }
 },
 "nbformat": 4,
 "nbformat_minor": 5
}
